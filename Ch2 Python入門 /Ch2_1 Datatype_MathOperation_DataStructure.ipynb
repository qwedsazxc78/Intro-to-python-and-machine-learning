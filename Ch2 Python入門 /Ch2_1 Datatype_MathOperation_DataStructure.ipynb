{
 "cells": [
  {
   "cell_type": "markdown",
   "metadata": {
    "collapsed": true
   },
   "source": [
    "# Ch2_1 資料型態、數學運算與資料結構"
   ]
  },
  {
   "cell_type": "markdown",
   "metadata": {
    "collapsed": true
   },
   "source": [
    "## 1. 資料型態 (Data types)\n",
    "- 整數   Integer\n",
    "- 浮點數  Floats\n",
    "- 複數   Complex\n",
    "- 布林   Booleans\n",
    "- 字串   String"
   ]
  },
  {
   "cell_type": "code",
   "execution_count": 2,
   "metadata": {},
   "outputs": [
    {
     "data": {
      "text/plain": [
       "int"
      ]
     },
     "execution_count": 2,
     "metadata": {},
     "output_type": "execute_result"
    }
   ],
   "source": [
    "a = 4\n",
    "type(a)"
   ]
  },
  {
   "cell_type": "code",
   "execution_count": 3,
   "metadata": {},
   "outputs": [
    {
     "data": {
      "text/plain": [
       "float"
      ]
     },
     "execution_count": 3,
     "metadata": {},
     "output_type": "execute_result"
    }
   ],
   "source": [
    "b = 2.1 \n",
    "type(b)"
   ]
  },
  {
   "cell_type": "code",
   "execution_count": 5,
   "metadata": {},
   "outputs": [
    {
     "data": {
      "text/plain": [
       "complex"
      ]
     },
     "execution_count": 5,
     "metadata": {},
     "output_type": "execute_result"
    }
   ],
   "source": [
    "c = 1.5 + 0.5j\n",
    "type(c)"
   ]
  },
  {
   "cell_type": "code",
   "execution_count": 8,
   "metadata": {},
   "outputs": [
    {
     "name": "stdout",
     "output_type": "stream",
     "text": [
      "complex real part  :  1.5\n",
      "complex imagee part:  0.5\n"
     ]
    }
   ],
   "source": [
    "print(\"complex real part  : \", c.real)\n",
    "print(\"complex imagee part: \", c.imag)b"
   ]
  },
  {
   "cell_type": "code",
   "execution_count": 11,
   "metadata": {},
   "outputs": [
    {
     "data": {
      "text/plain": [
       "bool"
      ]
     },
     "execution_count": 11,
     "metadata": {},
     "output_type": "execute_result"
    }
   ],
   "source": [
    "d = True\n",
    "type(d)"
   ]
  },
  {
   "cell_type": "code",
   "execution_count": 13,
   "metadata": {},
   "outputs": [
    {
     "data": {
      "text/plain": [
       "str"
      ]
     },
     "execution_count": 13,
     "metadata": {},
     "output_type": "execute_result"
    }
   ],
   "source": [
    "str_var = \"Hello World\"\n",
    "type(str_var)"
   ]
  },
  {
   "attachments": {},
   "cell_type": "markdown",
   "metadata": {
    "collapsed": true
   },
   "source": [
    "## 2. 數學運算\n",
    "- 算數運算子\tArithmetic Operators \n",
    "- 比較運算子 Comparison Operators\n",
    "- 指定運算子\tAssignment Operators  \n",
    "- 邏輯運算子\tLogical Operators\n",
    "- 位元運算子\tBitwise Operators\n",
    "- 成員運算子 Membership Operators\n",
    "- 標識運算子Identity Operators\n"
   ]
  },
  {
   "cell_type": "markdown",
   "metadata": {},
   "source": [
    "### 2.1 算數運算子 Arithmetic Operators"
   ]
  },
  {
   "cell_type": "code",
   "execution_count": 9,
   "metadata": {},
   "outputs": [
    {
     "name": "stdout",
     "output_type": "stream",
     "text": [
      "1 - a + b 的值为： 31\n",
      "2 - a - b 的值为： 11\n",
      "3 - a * b 的值为： 210\n",
      "4 - a / b 的值为： 2.1\n",
      "5 - a % b 的值为： 1\n",
      "6 - a**b  的值为： 8\n",
      "7 - a//b  的值为： 2\n"
     ]
    }
   ],
   "source": [
    "a = 21\n",
    "b = 10\n",
    "c = 0\n",
    " \n",
    "c = a + b\n",
    "print (\"1 - a + b 的值：\", c)\n",
    " \n",
    "c = a - b\n",
    "print (\"2 - a - b 的值：\", c )\n",
    " \n",
    "c = a * b\n",
    "print (\"3 - a * b 的值：\", c )\n",
    " \n",
    "c = a / b\n",
    "print( \"4 - a / b 的值：\", c )\n",
    " \n",
    "c = a % b\n",
    "print( \"5 - a % b 的值：\", c)\n",
    " \n",
    "# change value of a 、b 、c\n",
    "a = 2\n",
    "b = 3\n",
    "c = a**b \n",
    "print( \"6 - a**b  的值：\", c)\n",
    " \n",
    "a = 10\n",
    "b = 5\n",
    "c = a//b \n",
    "print( \"7 - a//b  的值：\", c)"
   ]
  },
  {
   "cell_type": "markdown",
   "metadata": {},
   "source": [
    "### 2.2 比較運算子 Comparison Operators"
   ]
  },
  {
   "cell_type": "code",
   "execution_count": 14,
   "metadata": {},
   "outputs": [
    {
     "name": "stdout",
     "output_type": "stream",
     "text": [
      "1 - a 等於 b\n",
      "2 - a 等於 b\n",
      "3 - a 大於等於 b\n",
      "4 - a 小於等於 b\n",
      "5 - a 小於等於 b\n",
      "6 - b 大於等於 a\n"
     ]
    }
   ],
   "source": [
    "a = 21\n",
    "b = 21\n",
    "\n",
    "if ( a == b ):\n",
    "    print( \"1 - a 等於 b\")\n",
    "else:\n",
    "    print( \"1 - a 不等於 b\")\n",
    "\n",
    "if ( a != b ):\n",
    "    print( \"2 - a 不等於 b\")\n",
    "else:\n",
    "    print( \"2 - a 等於 b\")\n",
    "\n",
    "if ( a < b ):\n",
    "    print( \"3 - a 小於 b\" )\n",
    "else:\n",
    "    print( \"3 - a 大於等於 b\")\n",
    "\n",
    "if ( a > b ):\n",
    "    print( \"4 - a 大於 b\")\n",
    "else:\n",
    "    print( \"4 - a 小於等於 b\")\n",
    "\n",
    "# change value of a and b\n",
    "a = 5\n",
    "b = 20\n",
    "if ( a <= b ):\n",
    "    print( \"5 - a 小於等於 b\")\n",
    "else:\n",
    "    print( \"5 - a 大於  b\")\n",
    "\n",
    "if ( b >= a ):\n",
    "    print( \"6 - b 大於等於 a\")\n",
    "else:\n",
    "    print( \"6 - b 小於 a\")"
   ]
  },
  {
   "cell_type": "markdown",
   "metadata": {},
   "source": [
    "### 2.3 指定運算子 Assignment Operators"
   ]
  },
  {
   "cell_type": "code",
   "execution_count": 15,
   "metadata": {},
   "outputs": [
    {
     "name": "stdout",
     "output_type": "stream",
     "text": [
      "1 - c = a + b 的值： 31\n",
      "2 - c += a    的值： 52\n",
      "3 - c *= a    的值： 1092\n",
      "4 - c /= a    的值： 52.0\n",
      "5 - c %= a    的值： 2\n",
      "6 - c **= a   的值： 2097152\n",
      "7 - c //= a   的值： 99864\n"
     ]
    }
   ],
   "source": [
    "a = 21\n",
    "b = 10\n",
    "c = 0\n",
    " \n",
    "c = a + b\n",
    "print( \"1 - c = a + b 的值：\", c)\n",
    " \n",
    "c += a\n",
    "print( \"2 - c += a    的值：\", c )\n",
    " \n",
    "c *= a\n",
    "print( \"3 - c *= a    的值：\", c )\n",
    " \n",
    "c /= a \n",
    "print( \"4 - c /= a    的值：\", c )\n",
    " \n",
    "c = 2\n",
    "c %= a\n",
    "print( \"5 - c %= a    的值：\", c)\n",
    " \n",
    "c **= a\n",
    "print( \"6 - c **= a   的值：\", c)\n",
    " \n",
    "c //= a\n",
    "print( \"7 - c //= a   的值：\", c)"
   ]
  },
  {
   "cell_type": "markdown",
   "metadata": {},
   "source": [
    "### 2.4 邏輯運算子 Logical Operators"
   ]
  },
  {
   "cell_type": "code",
   "execution_count": 28,
   "metadata": {},
   "outputs": [
    {
     "name": "stdout",
     "output_type": "stream",
     "text": [
      "1 - 變量 a 和 b 都爲 true\n",
      "2 - 變量 a 和 b 都爲 true，或其中一個變量爲 true\n",
      "3 - 變量 a 和 b 有一個不爲 true\n",
      "4 - 變量 a 和 b 都爲 true，或其中一個變量爲 true\n",
      "5 - 變量 a 和 b 都爲 false，或其中一個變量爲 false\n"
     ]
    }
   ],
   "source": [
    "a = 10\n",
    "b = 20\n",
    "\n",
    "if (a and b):\n",
    "    print(\"1 - 變量 a 和 b 都爲 true\")\n",
    "else:\n",
    "    print(\"1 - 變量 a 和 b 有一個不爲 true\")\n",
    "\n",
    "if (a or b):\n",
    "    print(\"2 - 變量 a 和 b 都爲 true，或其中一個變量爲 true\")\n",
    "else:\n",
    "    print(\"2 - 變量 a 和 b 都不爲 true\")\n",
    "\n",
    "# 修改變量 a 的值\n",
    "a = 0\n",
    "if (a and b):\n",
    "    print(\"3 - 變量 a 和 b 都爲 true\")\n",
    "else:\n",
    "    print(\"3 - 變量 a 和 b 有一個不爲 true\")\n",
    "\n",
    "if (a or b):\n",
    "    print(\"4 - 變量 a 和 b 都爲 true，或其中一個變量爲 true\")\n",
    "else:\n",
    "    print(\"4 - 變量 a 和 b 都不爲 true\")\n",
    "\n",
    "if not(a and b):\n",
    "    print(\"5 - 變量 a 和 b 都爲 false，或其中一個變量爲 false\")\n",
    "else:\n",
    "    print(\"5 - 變量 a 和 b 都爲 true\")"
   ]
  },
  {
   "cell_type": "markdown",
   "metadata": {},
   "source": [
    "### 2.5 位元運算子 Bitwise Operators"
   ]
  },
  {
   "cell_type": "code",
   "execution_count": 33,
   "metadata": {},
   "outputs": [
    {
     "name": "stdout",
     "output_type": "stream",
     "text": [
      "1 - c 的值爲： 12\n",
      "2 - c 的值爲： 61\n",
      "3 - c 的值爲： 49\n",
      "4 - c 的值爲： -61\n",
      "5 - c 的值爲： 240\n",
      "6 - c 的值爲： 15\n"
     ]
    }
   ],
   "source": [
    "a = 60            # 60 = 0011 1100 \n",
    "b = 13            # 13 = 0000 1101 \n",
    "c = 0\n",
    " \n",
    "c = a & b;        # 12 = 0000 1100\n",
    "print(\"1 - c 的值爲：\", c)\n",
    " \n",
    "c = a | b;        # 61 = 0011 1101 \n",
    "print(\"2 - c 的值爲：\", c)\n",
    " \n",
    "c = a ^ b;        # 49 = 0011 0001\n",
    "print(\"3 - c 的值爲：\", c)\n",
    " \n",
    "c = ~a;           # -61 = 1100 0011\n",
    "print(\"4 - c 的值爲：\", c)\n",
    " \n",
    "c = a << 2;       # 240 = 1111 0000\n",
    "print(\"5 - c 的值爲：\", c)\n",
    " \n",
    "c = a >> 2;       # 15 = 0000 1111\n",
    "print(\"6 - c 的值爲：\", c)"
   ]
  },
  {
   "cell_type": "markdown",
   "metadata": {},
   "source": [
    "### 2.7 成員運算子 Membership Operators"
   ]
  },
  {
   "cell_type": "code",
   "execution_count": 34,
   "metadata": {},
   "outputs": [
    {
     "name": "stdout",
     "output_type": "stream",
     "text": [
      "1 - 變量 a 不在給定的列表中 list 中\n",
      "2 - 變量 b 不在給定的列表中 list 中\n",
      "3 - 變量 a 在給定的列表中 list 中\n"
     ]
    }
   ],
   "source": [
    "a = 10\n",
    "b = 20\n",
    "list = [1, 2, 3, 4, 5 ];\n",
    "\n",
    "if ( a in list ):\n",
    "    print(\"1 - 變量 a 在給定的列表中 list 中\")\n",
    "else:\n",
    "    print(\"1 - 變量 a 不在給定的列表中 list 中\")\n",
    "\n",
    "if ( b not in list ):\n",
    "    print(\"2 - 變量 b 不在給定的列表中 list 中\")\n",
    "else:\n",
    "    print(\"2 - 變量 b 在給定的列表中 list 中\")\n",
    "\n",
    "# 修改變量 a 的值\n",
    "a = 2\n",
    "if ( a in list ):\n",
    "    print(\"3 - 變量 a 在給定的列表中 list 中\")\n",
    "else:\n",
    "    print(\"3 - 變量 a 不在給定的列表中 list 中\")"
   ]
  },
  {
   "attachments": {},
   "cell_type": "markdown",
   "metadata": {},
   "source": [
    "### 2.8 標識運算子 Identity Operators"
   ]
  },
  {
   "cell_type": "code",
   "execution_count": 37,
   "metadata": {},
   "outputs": [
    {
     "name": "stdout",
     "output_type": "stream",
     "text": [
      "1 - a 和 b 有相同的標識\n",
      "2 - a 和 b 有相同的標識\n"
     ]
    }
   ],
   "source": [
    "a = 20\n",
    "b = 20\n",
    " \n",
    "if ( a is b ):\n",
    "    print(\"1 - a 和 b 有相同的標識\")\n",
    "else:\n",
    "    print(\"1 - a 和 b 沒有相同的標識\")\n",
    "\n",
    "if ( a is not b ):\n",
    "    print(\"2 - a 和 b 沒有相同的標識\")\n",
    "else:\n",
    "    print(\"2 - a 和 b 有相同的標識\")"
   ]
  },
  {
   "attachments": {},
   "cell_type": "markdown",
   "metadata": {
    "collapsed": true
   },
   "source": [
    "## 3. 資料結構\n",
    "- 列表 List\n",
    "- 元組 Tuples\n",
    "- 字典 Dictionaries\n",
    "- 集合 Sets\n",
    "- 字串 String"
   ]
  },
  {
   "attachments": {},
   "cell_type": "markdown",
   "metadata": {
    "collapsed": true
   },
   "source": [
    "### 3.1 列表 List\n",
    "- 列表操作"
   ]
  },
  {
   "cell_type": "code",
   "execution_count": 46,
   "metadata": {},
   "outputs": [
    {
     "name": "stdout",
     "output_type": "stream",
     "text": [
      "1 - list01      : ['runoob', 786, 2.23, 'john', 70.2]\n",
      "1 - list02      : [123, 'john']\n",
      "2 - list01[0]   : runoob\n",
      "2 - list01[-1]  : 70.2\n",
      "2 - list01[0:3] : ['runoob', 786, 2.23]\n",
      "3 - list01 * 2  : \n",
      " ['runoob', 786, 2.23, 'john', 70.2, 'runoob', 786, 2.23, 'john', 70.2]\n",
      "4 - list01 + list02 : ['runoob', 786, 2.23, 'john', 70.2, 123, 'john']\n",
      "5 - len(list01) : 5\n",
      "6 - del list02[0]: ['john']\n",
      "7 - check element  : True\n",
      "8 - i in list01 : runoob\n",
      "8 - i in list01 : 786\n",
      "8 - i in list01 : 2.23\n",
      "8 - i in list01 : john\n",
      "8 - i in list01 : 70.2\n"
     ]
    }
   ],
   "source": [
    "list01 = ['runoob', 786, 2.23, 'john', 70.2]\n",
    "list02 = [123, 'john']\n",
    "\n",
    "# 1.列表\n",
    "print(\"1 - list01      :\", list01)\n",
    "print(\"1 - list02      :\", list02)\n",
    "\n",
    "# 2.列表截取 (slicing)\n",
    "print(\"2 - list01[0]   :\", list01[0])\n",
    "print(\"2 - list01[-1]  :\", list01[-1])\n",
    "print(\"2 - list01[0:3] :\", list01[0:3])\n",
    "\n",
    "# 3.列表重複\n",
    "print(\"3 - list01 * 2  : \\n\", list01 * 2)\n",
    "\n",
    "# 4.列表組合\n",
    "print(\"4 - list01 + list02 :\", list01 + list02)\n",
    "\n",
    "# 5.獲取列表長度\n",
    "print(\"5 - len(list01) :\", len(list01))\n",
    "\n",
    "# 6.刪除列表元素\n",
    "del list02[0]\n",
    "print(\"6 - del list02[0]:\", list02)\n",
    "\n",
    "# 7.元素是否存在於列表中\n",
    "print(\"7 - check element  :\", 'john' in list02)  # True\n",
    "\n",
    "# 8.迭代\n",
    "for i in list01:\n",
    "    print(\"8 - i in list01 :\", i)"
   ]
  },
  {
   "attachments": {},
   "cell_type": "markdown",
   "metadata": {
    "collapsed": true
   },
   "source": [
    "- 常見的列表內建函數"
   ]
  },
  {
   "cell_type": "code",
   "execution_count": 57,
   "metadata": {},
   "outputs": [
    {
     "name": "stdout",
     "output_type": "stream",
     "text": [
      "1 - max(list01)     : 4\n",
      "2 - min(list02)     : 0\n",
      "2 - list03          : [0, 1, 2, 3, 4, 0, 1]\n",
      "2 - list03.append(5): [0, 1, 2, 3, 4, 0, 1, 5]\n",
      "3 - list03.extend(list01) : [0, 1, 2, 3, 4, 0, 1, 5, 0, 1, 2, 3, 4]\n",
      "4 - list03.count(1)       : 3\n",
      "5 - list03.index(4)       : 4\n",
      "6 - list03.insert(0,'hello'):\n",
      " ['hello', 0, 1, 2, 3, 4, 0, 1, 5, 0, 1, 2, 3, 4]\n",
      "7 - list03.pop(0)         : hello\n",
      "7 - list03                : [0, 1, 2, 3, 4, 0, 1, 5, 0, 1, 2, 3, 4]\n",
      "8 - list03.remove(1)      : [0, 2, 3, 4, 0, 1, 5, 0, 1, 2, 3, 4]\n",
      "9 - list03.reverse()      : [4, 3, 2, 1, 0, 5, 1, 0, 4, 3, 2, 0]\n",
      "10 - list03.append(5)     : [0, 0, 0, 1, 1, 2, 2, 3, 3, 4, 4, 5]\n"
     ]
    }
   ],
   "source": [
    "# 1.列表最大/最小值\n",
    "list01 = [0, 1, 2, 3, 4]\n",
    "list02 = [0, 1]\n",
    "list03 = list01 + list02\n",
    "print(\"1 - max(list01)     :\", max(list01))\n",
    "print(\"2 - min(list02)     :\", min(list02))\n",
    "\n",
    "# 2.在列表末尾添加新的元素\n",
    "print(\"2 - list03          :\", list03)\n",
    "list03.append(5)\n",
    "print(\"2 - list03.append(5):\", list03)\n",
    "\n",
    "# 3.在列表末尾一次性追加另一個序列中的多個值（用新列表擴展原來的列表）\n",
    "list03.extend(list01)\n",
    "print(\"3 - list03.extend(list01) :\",list03)\n",
    "\n",
    "# 4.統計某個元素在列表中出現的次數\n",
    "print(\"4 - list03.count(1)       :\", list03.count(1))\n",
    "\n",
    "# 5.從列表中找出某個值第一個匹配項的索引位置\n",
    "print(\"5 - list03.index(4)       :\",list03.index(4))\n",
    "\n",
    "# 6.將字串插入列表 \n",
    "list03.insert(0, 'hello')\n",
    "print(\"6 - list03.insert(0,'hello'):\\n\", list03)\n",
    "\n",
    "# 7.移除列表中的一個元素（默認最後一個元素），並且返回該元素的值\n",
    "print(\"7 - list03.pop(0)         :\", list03.pop(0))\n",
    "print(\"7 - list03                :\", list03)\n",
    "\n",
    "# 8.移除列表中某個值的第一個匹配項\n",
    "list03.remove(1)\n",
    "print(\"8 - list03.remove(1)      :\", list03)\n",
    "\n",
    "# 9.反向列表中元素\n",
    "list03.reverse()\n",
    "print(\"9 - list03.reverse()      :\", list03)\n",
    "\n",
    "# 10.對原列表進行排序\n",
    "list03.sort()\n",
    "print(\"10 - list03.append(5)     :\", list03)"
   ]
  },
  {
   "attachments": {},
   "cell_type": "markdown",
   "metadata": {
    "collapsed": true
   },
   "source": [
    "### 3.2 元組 Tuples"
   ]
  },
  {
   "cell_type": "code",
   "execution_count": 61,
   "metadata": {},
   "outputs": [
    {
     "name": "stdout",
     "output_type": "stream",
     "text": [
      "1 - tuple01      : ('runoob', 786, 2.23, 'john', 70.2)\n",
      "1 - tuple02      : (123, 'john')\n",
      "2 - tuple01[0]   : runoob\n",
      "2 - tuple01[-1]  : 70.2\n",
      "2 - tuple01[0:3] : ('runoob', 786, 2.23)\n",
      "3 - tuple01 * 2  : \n",
      " ('runoob', 786, 2.23, 'john', 70.2, 'runoob', 786, 2.23, 'john', 70.2)\n",
      "4 - tuple01 + tuple02 : ('runoob', 786, 2.23, 'john', 70.2, 123, 'john')\n",
      "5 - len(tuple01) : 5\n",
      "7 - check element  : True\n",
      "8 - i in tuple01 : runoob\n",
      "8 - i in tuple01 : 786\n",
      "8 - i in tuple01 : 2.23\n",
      "8 - i in tuple01 : john\n",
      "8 - i in tuple01 : 70.2\n"
     ]
    }
   ],
   "source": [
    "tuple01 = ('runoob', 786, 2.23, 'john', 70.2)\n",
    "tuple02 = (123, 'john')\n",
    "\n",
    "# 1.元组\n",
    "print(\"1 - tuple01      :\", tuple01)\n",
    "print(\"1 - tuple02      :\", tuple02)\n",
    "\n",
    "# 2.元组截取 (slicing)\n",
    "print(\"2 - tuple01[0]   :\", tuple01[0])\n",
    "print(\"2 - tuple01[-1]  :\", tuple01[-1])\n",
    "print(\"2 - tuple01[0:3] :\", tuple01[0:3])\n",
    "\n",
    "# 3.元组重複\n",
    "print(\"3 - tuple01 * 2  : \\n\", tuple01 * 2)\n",
    "\n",
    "# 4.元组組合\n",
    "print(\"4 - tuple01 + tuple02 :\", tuple01 + tuple02)\n",
    "\n",
    "# 5.獲取元组長度\n",
    "print(\"5 - len(tuple01) :\", len(tuple01))\n",
    "\n",
    "# 6.刪除元组元素 - 元组不可修改\n",
    "# del tuple02[0]\n",
    "# print(\"6 - del tuple02[0]:\", tuple02)\n",
    "\n",
    "# 7.元素是否存在於元组中\n",
    "print(\"7 - check element  :\", 'john' in tuple02)  # True\n",
    "\n",
    "# 8.迭代\n",
    "for i in tuple01:\n",
    "    print(\"8 - i in tuple01 :\", i)"
   ]
  },
  {
   "attachments": {},
   "cell_type": "markdown",
   "metadata": {
    "collapsed": true
   },
   "source": [
    "### 3.3 字典 Dictionaries"
   ]
  },
  {
   "cell_type": "code",
   "execution_count": 83,
   "metadata": {},
   "outputs": [
    {
     "name": "stdout",
     "output_type": "stream",
     "text": [
      "1 - dict1['Age']       :  7\n",
      "1 - dict1['Class']     :  First\n",
      "2 - dict1['Age']       :  8\n",
      "2 - dict1['School']    :  DPS School\n",
      "2 - dict1['Name']      :  Zara\n",
      "3 - dict1.update(dict2): \n",
      " {'Name': 'Alex', 'Age': 10, 'Class': 'Second', 'School': 'DPS School'}\n",
      "4 - dict1.items()      : \n",
      " dict_items([('Name', 'Alex'), ('Age', 10), ('Class', 'Second'), ('School', 'DPS School')])\n",
      "5 - dict1.values()     : \n",
      " dict_values(['Alex', 10, 'Second', 'DPS School'])\n",
      "6 - dict1.get('Age')   :  10\n",
      "6 - dict1.get('Ag ')   :  None\n",
      "7 - dict1.popitem()    :  ('School', 'DPS School')\n",
      "7 - dict1              :  {'Name': 'Alex', 'Age': 10, 'Class': 'Second'}\n"
     ]
    }
   ],
   "source": [
    "dict1 = {'Name': 'Zara', 'Age': 7, 'Class': 'First'};\n",
    "dict2 = {'Name': 'Alex', 'Age': 10, 'Class': 'Second'};\n",
    "\n",
    "# 1.字典截取 (slicing)\n",
    "print(\"1 - dict1['Age']       : \", dict1['Age']);\n",
    "print(\"1 - dict1['Class']     : \", dict1['Class']);\n",
    "\n",
    "# 2.字典修改數值\n",
    "dict1['Age'] = 8; # update existing entry\n",
    "dict1['School'] = \"DPS School\"; # Add new entry\n",
    " \n",
    "print(\"2 - dict1['Age']       : \", dict1['Age']);\n",
    "print(\"2 - dict1['School']    : \", dict1['School']);\n",
    "print(\"2 - dict1['Name']      : \", dict1['Name']);\n",
    "\n",
    "# 3. 把字典dict2的鍵/值對更新到dict裏\n",
    "dict1.update(dict2)\n",
    "print(\"3 - dict1.update(dict2): \\n\", dict1);\n",
    "\n",
    "# 4. 把字典dict2的鍵/值對更新到dict裏\n",
    "print(\"4 - dict1.items()      : \\n\", dict1.items());\n",
    "\n",
    "# 5. 以列表返回字典中的所有值\n",
    "print(\"5 - dict1.values()     : \\n\", dict1.values());\n",
    "\n",
    "# 6. 返回指定鍵的值，如果值不在字典中返回default值\n",
    "print(\"6 - dict1.get('Age')   : \", dict1.get('Age')  );\n",
    "print(\"6 - dict1.get('Ag ')   : \", dict1.get('Ag ')  );\n",
    "\n",
    "# 7. 隨機返回並刪除字典中的一對鍵和值。\n",
    "print(\"7 - dict1.popitem()    : \", dict1.popitem());\n",
    "print(\"7 - dict1              : \", dict1);"
   ]
  },
  {
   "attachments": {},
   "cell_type": "markdown",
   "metadata": {
    "collapsed": true
   },
   "source": [
    "### 3.4 集合 Sets"
   ]
  },
  {
   "cell_type": "code",
   "execution_count": 104,
   "metadata": {},
   "outputs": [
    {
     "name": "stdout",
     "output_type": "stream",
     "text": [
      "1 - list01        :  [0, 2, 1, 2, 3, 4, 5, 6, 6, 8, 9]\n",
      "1 - set01         :  {0, 1, 2, 3, 4, 5, 6, 8, 9}\n",
      "2 - sorted(list01):  [0, 1, 2, 2, 3, 4, 5, 6, 6, 8, 9]\n",
      "2 - sorted set02  :  {0, 1, 2, 3, 4, 5, 6, 8, 9}\n"
     ]
    }
   ],
   "source": [
    "list01 = [0, 2, 1, 2, 3, 4, 5, 6, 6, 8, 9]\n",
    "set01 = set(list01)\n",
    "\n",
    "# 1. 由列表產生不重複值的集合\n",
    "print(\"1 - list01        : \", list01);\n",
    "print(\"1 - set01         : \", set01);\n",
    " \n",
    "# 2. 由列表產生不重複值且排好順序的集合\n",
    "list02 = sorted(list01)\n",
    "set02 = set(list02)\n",
    "print(\"2 - sorted(list01): \", list02);\n",
    "print(\"2 - sorted set02  : \", set02);"
   ]
  },
  {
   "attachments": {},
   "cell_type": "markdown",
   "metadata": {
    "collapsed": true
   },
   "source": [
    "### 3.5 字串 String\n",
    "- 字串運算\n",
    "- 特殊字元脫曳\n",
    "- 格式化字串\n",
    "- 常見的Strings内建函数"
   ]
  },
  {
   "cell_type": "code",
   "execution_count": 121,
   "metadata": {},
   "outputs": [
    {
     "name": "stdout",
     "output_type": "stream",
     "text": [
      "1 - a + b  輸出結果： HelloPython\n",
      "1 - a * 2  輸出結果： HelloHello\n",
      "1 - a[1]   輸出結果： e\n",
      "1 - a[1:4] 輸出結果： ell\n",
      "1 - H 在變量 a 中\n",
      "1 - M 不在變量 a 中\n",
      "\n",
      "\n",
      "2 - 原始字串 - \n",
      "\n",
      "2 - 原始字串 - \\n\n",
      "2 - 原始字串 - \n",
      "\n",
      "2 - 原始字串 - \\n\n",
      "\n",
      "\n",
      "3 - 字串格式化 我的名字是 Zara , 體重 21 kg!\n",
      "3 - 字串格式化 體重 21, 21.000000, 2.100000e+01, 21 kg!\n",
      "\n",
      "4 - 三引號  this is a long string that is made up \n",
      "of several lines and non-printable characters such as\n",
      "TAB ( \t ).\n",
      "\n"
     ]
    }
   ],
   "source": [
    "# 1. 字串運算\n",
    "a = \"Hello\"\n",
    "b = \"Python\"\n",
    "\n",
    "print(\"1 - a + b  輸出結果：\", a + b)\n",
    "print(\"1 - a * 2  輸出結果：\", a * 2)\n",
    "print(\"1 - a[1]   輸出結果：\", a[1])\n",
    "print(\"1 - a[1:4] 輸出結果：\", a[1:4])\n",
    "\n",
    "if( \"H\" in a) :\n",
    "    print(\"1 - H 在變量 a 中\") \n",
    "else :\n",
    "    print(\"1 - H 不在變量 a 中\") \n",
    "\n",
    "if( \"M\" not in a) :\n",
    "    print(\"1 - M 不在變量 a 中\") \n",
    "else :\n",
    "    print(\"1 - M 在變量 a 中\")\n",
    "\n",
    "# 2. 字串運算: 原始字串\n",
    "print('\\n')\n",
    "print('2 - 原始字串 - \\n')\n",
    "print(r'2 - 原始字串 - \\n')\n",
    "print('2 - 原始字串 - \\n')\n",
    "print(R'2 - 原始字串 - \\n')\n",
    "\n",
    "# 3. 格式化字串\n",
    "print('\\n')\n",
    "print((\"3 - 字串格式化 我的名字是 %s , 體重 %d kg!\" % ('Zara', 21))) \n",
    "print((\"3 - 字串格式化 體重 %d, %f, %e, %g kg!\\n\" % (21, 21, 21, 21))) \n",
    "\n",
    "# 4. 三引號（triple quotes）\n",
    "para_str = \"\"\"4 - 三引號  this is a long string that is made up \n",
    "of several lines and non-printable characters such as\n",
    "TAB ( \\t ).\n",
    "\"\"\"\n",
    "print (para_str)"
   ]
  },
  {
   "cell_type": "markdown",
   "metadata": {},
   "source": [
    "- 常見的字串内建函数"
   ]
  },
  {
   "cell_type": "code",
   "execution_count": null,
   "metadata": {
    "collapsed": true
   },
   "outputs": [],
   "source": [
    "str = \"this is string example....wow!!!\"\n",
    "print (\"str.capitalize() : \", str.capitalize())"
   ]
  }
 ],
 "metadata": {
  "kernelspec": {
   "display_name": "Python (env-py36)",
   "language": "python",
   "name": "py36"
  },
  "language_info": {
   "codemirror_mode": {
    "name": "ipython",
    "version": 3
   },
   "file_extension": ".py",
   "mimetype": "text/x-python",
   "name": "python",
   "nbconvert_exporter": "python",
   "pygments_lexer": "ipython3",
   "version": "3.6.1"
  }
 },
 "nbformat": 4,
 "nbformat_minor": 2
}
