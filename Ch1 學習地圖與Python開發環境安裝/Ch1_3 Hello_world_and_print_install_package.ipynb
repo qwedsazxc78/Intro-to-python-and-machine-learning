{
 "cells": [
  {
   "cell_type": "markdown",
   "metadata": {},
   "source": [
    "## 1. Hello_world"
   ]
  },
  {
   "cell_type": "code",
   "execution_count": 12,
   "metadata": {},
   "outputs": [
    {
     "name": "stdout",
     "output_type": "stream",
     "text": [
      "Hello world\n"
     ]
    }
   ],
   "source": [
    "print(\"Hello world\")"
   ]
  },
  {
   "cell_type": "markdown",
   "metadata": {},
   "source": [
    "## 2. Print_install_package\n",
    "install package : conda install pandas numpy scipy sklearn -y"
   ]
  },
  {
   "cell_type": "code",
   "execution_count": 13,
   "metadata": {},
   "outputs": [
    {
     "name": "stdout",
     "output_type": "stream",
     "text": [
      "pandas  version:  0.20.1\n",
      "numpy   version:  1.12.1\n",
      "scipy   version:  0.19.0\n",
      "sklearn version:  0.18.1\n"
     ]
    }
   ],
   "source": [
    "import pandas\n",
    "import numpy \n",
    "import scipy\n",
    "import sklearn\n",
    "\n",
    "print(\"pandas  version: \", pandas.__version__)\n",
    "print(\"numpy   version: \", numpy.__version__)\n",
    "print(\"scipy   version: \", scipy.__version__)\n",
    "print(\"sklearn version: \", sklearn.__version__)"
   ]
  },
  {
   "cell_type": "code",
   "execution_count": null,
   "metadata": {
    "collapsed": true
   },
   "outputs": [],
   "source": []
  }
 ],
 "metadata": {
  "kernelspec": {
   "display_name": "Python (env-py36)",
   "language": "python",
   "name": "py36"
  },
  "language_info": {
   "codemirror_mode": {
    "name": "ipython",
    "version": 3
   },
   "file_extension": ".py",
   "mimetype": "text/x-python",
   "name": "python",
   "nbconvert_exporter": "python",
   "pygments_lexer": "ipython3",
   "version": "3.6.1"
  }
 },
 "nbformat": 4,
 "nbformat_minor": 2
}
